{
 "cells": [
  {
   "cell_type": "code",
   "execution_count": null,
   "metadata": {},
   "outputs": [],
   "source": [
    "from IceCube.Essential import *\n",
    "from IceCube.Model import *\n",
    "from sklearn.tree import DecisionTreeClassifier\n",
    "from sklearn.ensemble import AdaBoostClassifier\n",
    "from sklearn.model_selection import train_test_split\n",
    "from sklearn.metrics import accuracy_score\n",
    "import pickle\n",
    "import pdb"
   ]
  },
  {
   "cell_type": "code",
   "execution_count": null,
   "metadata": {},
   "outputs": [],
   "source": [
    "def draw_hist(title, x, density=True, nbins=30):\n",
    "    gnn_better = x[error < errorx]\n",
    "    fit_better = x[error > errorx]\n",
    "\n",
    "    plt.figure()\n",
    "    plt.hist(gnn_better, bins=nbins, color='blue', label='GNN', histtype='step', density=density)\n",
    "    plt.hist(fit_better, bins=nbins, color='orange', label='Fit', histtype='step', density=density)\n",
    "    plt.title(title)\n",
    "    plt.legend()"
   ]
  },
  {
   "cell_type": "code",
   "execution_count": null,
   "metadata": {},
   "outputs": [],
   "source": [
    "# BATCHES_TEST = list(range(1, 21))\n",
    "BATCHES_TEST = [2]\n",
    "\n",
    "# ground truth\n",
    "true_df = get_target_angles(BATCHES_TEST)\n",
    "true_df = angles2vector(true_df)\n",
    "print(true_df.head(5))\n",
    "n = true_df[[\"nx\",\"ny\",\"nz\"]].to_numpy()\n",
    "\n",
    "# reconstructed directions\n",
    "reco_df = get_reco_angles(BATCHES_TEST)\n",
    "print(reco_df.head(5))\n",
    "n_hat = reco_df[[\"x\", \"y\", \"z\"]].to_numpy()\n",
    "\n",
    "e = reco_df[[\"ex\", \"ey\", \"ez\"]].to_numpy()\n",
    "xe = np.sum(n_hat * e, axis=1)\n",
    "print(xe.shape)\n",
    "proj = n_hat - xe[:, np.newaxis] * e\n",
    "proj /= (np.linalg.norm(proj, axis=1, keepdims=True) + 1e-8)\n",
    "\n",
    "error, az_error, ze_error = angle_errors(n, n_hat)\n",
    "print(f\"error, az_error, ze_error = {error.mean()}, {az_error.mean()}, {ze_error.mean()}\")\n",
    "\n",
    "errorx, az_errorx, ze_errorx = angle_errors(n, proj)\n",
    "print(f\"error, az_error, ze_error = {errorx.mean()}, {az_errorx.mean()}, {ze_errorx.mean()}\")\n",
    "\n",
    "idx = error > errorx"
   ]
  },
  {
   "cell_type": "code",
   "execution_count": null,
   "metadata": {},
   "outputs": [],
   "source": [
    "# plot errors\n",
    "plt.figure()\n",
    "plt.hist(error, bins=30, color='blue', label='GNN', histtype='step', density=False)\n",
    "plt.hist(error[error < errorx], bins=30, color='black', label='GNN better', histtype='step', density=False)\n",
    "plt.hist(errorx, bins=30, color='orange', label='Fit', histtype='step', density=False)\n",
    "plt.hist(errorx[error > errorx], bins=30, color='red', label='Fit better', histtype='step', density=False)\n",
    "plt.legend()"
   ]
  },
  {
   "cell_type": "code",
   "execution_count": null,
   "metadata": {},
   "outputs": [],
   "source": [
    "# fit_error can be considered as the goodness of fit\n",
    "Nbins = 100\n",
    "draw_hist(\"log10(error)\", np.log10(np.sqrt(reco_df[\"error\"]) + 1e-6), nbins=Nbins)\n",
    "draw_hist(\"hits\", reco_df[\"hits\"], nbins=Nbins)\n",
    "draw_hist(\"zenith\", reco_df[\"zenith\"], nbins=Nbins)\n",
    "draw_hist(\"log10(sumq)\", np.log10(reco_df[\"sumq\"] + 1e-3), nbins=Nbins)\n",
    "draw_hist(\"log10(dt_15)\", np.log10(reco_df[\"dt_15\"] + 1e-3), nbins=Nbins)\n",
    "draw_hist(\"log10(dt_50)\", np.log10(reco_df[\"dt_50\"] + 1e-3), nbins=Nbins)\n",
    "draw_hist(\"log10(dt_85)\", np.log10(reco_df[\"dt_85\"] + 1e-3), nbins=Nbins)\n",
    "draw_hist(\"log10(meanq)\", np.log10(reco_df[\"meanq\"] + 1e-3), nbins=Nbins>>1)\n",
    "draw_hist(\"bratio\", np.clip(reco_df[\"bratio\"], 0, 0.00001), nbins=Nbins>>1)\n",
    "draw_hist(\"uniq_x\", reco_df[\"uniq_x\"], nbins=Nbins>>1)\n",
    "draw_hist(\"uniq_y\", reco_df[\"uniq_y\"], nbins=Nbins>>1)\n",
    "draw_hist(\"uniq_z\", reco_df[\"uniq_z\"], nbins=Nbins>>1)\n",
    "draw_hist(\"qx\", reco_df[\"qx\"], nbins=Nbins>>1)\n",
    "draw_hist(\"qy\", reco_df[\"qy\"], nbins=Nbins>>1)\n",
    "draw_hist(\"qz\", reco_df[\"qz\"], nbins=Nbins>>1)\n",
    "draw_hist(\"ez\", reco_df[\"ez\"], nbins=Nbins)\n",
    "draw_hist(\"arccos(xe)\", np.arccos(xe), nbins=Nbins)\n",
    "draw_hist(\"log10(kappa)\", np.log10(reco_df[\"kappa\"] + 1e-3), nbins=Nbins)"
   ]
  },
  {
   "cell_type": "code",
   "execution_count": null,
   "metadata": {},
   "outputs": [],
   "source": [
    "# trajectory display\n",
    "col_xyzt = [\n",
    "    \"x0\", \"y0\", \"z0\", \"t0\",\n",
    "    \"x1\", \"y1\", \"z1\", \"t1\",\n",
    "    \"x2\", \"y2\", \"z2\", \"t2\",\n",
    "    \"x3\", \"y3\", \"z3\", \"t3\", ]\n",
    "traj = reco_df[col_xyzt].values\n",
    "traj = traj.reshape(-1, 4, 4)\n",
    "traj"
   ]
  },
  {
   "cell_type": "code",
   "execution_count": null,
   "metadata": {},
   "outputs": [],
   "source": [
    "import matplotlib.pyplot as plt\n",
    "from mpl_toolkits.mplot3d import Axes3D\n",
    "import numpy as np\n",
    "\n",
    "def draw_trajectory(eid):\n",
    "    event = traj[eid]\n",
    "\n",
    "    fig = plt.figure()\n",
    "    ax = fig.add_subplot(111, projection='3d')\n",
    "    ax.set_xlim(-0.5, 0.5)\n",
    "    ax.set_ylim(-0.5, 0.5)\n",
    "    ax.set_zlim(-0.5, 0.5)\n",
    "\n",
    "    ax.scatter(event[:,0], event[:,1], event[:,2])\n",
    "    times = event[:,3]\n",
    "    norm = plt.Normalize(times.min(), times.max())\n",
    "    cmap = plt.cm.get_cmap('RdYlBu')\n",
    "\n",
    "    colors = cmap(norm(times))\n",
    "    ax.scatter(event[:,0], event[:,1], event[:,2], c=colors)"
   ]
  },
  {
   "cell_type": "code",
   "execution_count": null,
   "metadata": {},
   "outputs": [],
   "source": [
    "for i in range(10000, 99900, 9900):\n",
    "    draw_trajectory(i)"
   ]
  },
  {
   "cell_type": "code",
   "execution_count": null,
   "metadata": {},
   "outputs": [],
   "source": [
    "# reco_df inputs\n",
    "reco_df[\"error\"] = np.log10(reco_df[\"error\"] + 1e-6)\n",
    "reco_df[\"sumq\"] = np.log10(reco_df[\"sumq\"] + 1e-3)\n",
    "reco_df[\"dt_15\"] = np.log10(reco_df[\"dt_15\"] + 1e-3)\n",
    "reco_df[\"dt_50\"] = np.log10(reco_df[\"dt_50\"] + 1e-3)\n",
    "reco_df[\"dt_85\"] = np.log10(reco_df[\"dt_85\"] + 1e-3)\n",
    "reco_df[\"kappa\"] = np.log10(reco_df[\"kappa\"] + 1e-3)\n",
    "reco = reco_df[[\"kappa\", \"zenith\", \"error\", \"sumq\", \"qz\", \"dt_15\", \"dt_50\", \"dt_85\", \"ez\", \"uniq_x\"]].to_numpy()\n",
    "xe = np.arccos(xe)\n",
    "\n",
    "# trajectory display\n",
    "col_xyzt = [\n",
    "    \"x0\", \"y0\", \"z0\", \"t0\",\n",
    "    \"x1\", \"y1\", \"z1\", \"t1\",\n",
    "    \"x2\", \"y2\", \"z2\", \"t2\",\n",
    "    \"x3\", \"y3\", \"z3\", \"t3\", ]\n",
    "traj = reco_df[col_xyzt].values\n",
    "traj = traj.reshape(-1, 4, 4)\n",
    "\n",
    "v1 = 1e3 * (traj[:, 1, :3] - traj[:, 0, :3]) / (traj[:, 1, 3] - traj[:, 0, 3] + 1)[:, np.newaxis]\n",
    "v2 = 1e3 * (traj[:, 2, :3] - traj[:, 1, :3]) / (traj[:, 2, 3] - traj[:, 1, 3] + 1)[:, np.newaxis]\n",
    "v3 = 1e3 * (traj[:, 3, :3] - traj[:, 2, :3]) / (traj[:, 3, 3] - traj[:, 2, 3] + 1)[:, np.newaxis]\n",
    "\n",
    "v1scale = np.linalg.norm(v1, axis=1, keepdims=True) + 1e-1\n",
    "v2scale = np.linalg.norm(v2, axis=1, keepdims=True) + 1e-1\n",
    "v3scale = np.linalg.norm(v3, axis=1, keepdims=True) + 1e-1\n",
    "\n",
    "ev1 = np.sum(-v1 * e / v1scale, axis=1)\n",
    "ev2 = np.sum(-v2 * e / v2scale, axis=1)\n",
    "ev3 = np.sum(-v3 * e / v3scale, axis=1)\n",
    "\n",
    "ev1 = np.arccos(ev1)\n",
    "ev2 = np.arccos(ev2)\n",
    "ev3 = np.arccos(ev3)\n",
    "\n",
    "# inputs\n",
    "# load the model and predict\n",
    "LOGGER.info(\"Loading BDT model...\")\n",
    "clf = pickle.load(open(os.path.join(MODEL_PATH, 'BDT_clf.Baseline.sklearn'), 'rb'))\n",
    "LOGGER.info(\"Predicting...\")\n",
    "X = np.concatenate([reco, xe[:, np.newaxis], ev1[:, np.newaxis], ev2[:, np.newaxis], ev3[:, np.newaxis]], axis=1)\n",
    "y_hat = clf.predict(X)\n",
    "score = clf.decision_function(X)\n",
    "\n",
    "# Evaluate accuracy\n",
    "accuracy = accuracy_score(idx, y_hat)\n",
    "LOGGER.info(f\"Test accuracy: {accuracy * 100:.2f}%\")\n",
    "error[y_hat] = errorx[y_hat]\n",
    "LOGGER.info(f\"error -> {error.mean()}\")"
   ]
  },
  {
   "cell_type": "code",
   "execution_count": null,
   "metadata": {},
   "outputs": [],
   "source": [
    "error, az_error, ze_error = angle_errors(n, n_hat)\n",
    "LOGGER.info(f\"error, az_error, ze_error = {error.mean()}, {az_error.mean()}, {ze_error.mean()}\")\n",
    "\n",
    "errorx, az_errorx, ze_errorx = angle_errors(n, proj)\n",
    "LOGGER.info(f\"error, az_error, ze_error = {errorx.mean()}, {az_errorx.mean()}, {ze_errorx.mean()}\")\n",
    "\n",
    "criteria = score > -0.00001\n",
    "error[criteria] = errorx[criteria]\n",
    "LOGGER.info(f\"error -> {error.mean()}\")\n",
    "\n",
    "draw_hist(\"score\", np.clip(score, -0.01, 0), density=True)"
   ]
  },
  {
   "cell_type": "code",
   "execution_count": null,
   "metadata": {},
   "outputs": [],
   "source": []
  }
 ],
 "metadata": {
  "kernelspec": {
   "display_name": "Python 3 (ipykernel)",
   "language": "python",
   "name": "python3"
  },
  "language_info": {
   "codemirror_mode": {
    "name": "ipython",
    "version": 3
   },
   "file_extension": ".py",
   "mimetype": "text/x-python",
   "name": "python",
   "nbconvert_exporter": "python",
   "pygments_lexer": "ipython3",
   "version": "3.8.12"
  },
  "vscode": {
   "interpreter": {
    "hash": "2f394aca7ca06fed1e6064aef884364492d7cdda3614a461e02e6407fc40ba69"
   }
  }
 },
 "nbformat": 4,
 "nbformat_minor": 4
}
