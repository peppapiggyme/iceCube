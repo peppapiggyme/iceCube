{
 "cells": [
  {
   "cell_type": "code",
   "execution_count": 1,
   "metadata": {},
   "outputs": [
    {
     "name": "stdout",
     "output_type": "stream",
     "text": [
      "  1 test files\n"
     ]
    }
   ],
   "source": [
    "import os, gc, sys, time, datetime, math, random,  psutil\n",
    "import numpy as np,  matplotlib.pyplot as plt, pandas as pd\n",
    "from   pathlib   import Path        \n",
    "from   tqdm.auto import tqdm\n",
    "import pyarrow, pyarrow.parquet as pq \n",
    "\n",
    "\n",
    "PATH = Path(\"/root/autodl-tmp/kaggle/icecube-neutrinos-in-deep-ice/\")  # path to dataset\n",
    "# files_test = [item for item in (PATH  / \"test\").glob('*')] \n",
    "files_test = [\"/root/autodl-tmp/kaggle/icecube-neutrinos-in-deep-ice/train/batch_660.parquet\"]\n",
    "print(f\"{len(files_test):3d} test files\")\n",
    "\n",
    "#===============================================================================\n",
    "def info(text, pref=\"\", end=\"\\n\"):\n",
    "    \"\"\" Information about the progress of calculations (time and memory) \"\"\"\n",
    "    gc.collect()\n",
    "    ram, t = psutil.virtual_memory().used / 1024**3,  time.time()    \n",
    "    print(f\"{pref}{(t-info.beg)/60:5.1f}m[{t-info.last:+5.1f}s] {ram:6.3f}Gb > {text}\",end=end)\n",
    "    info.last = time.time(); \n",
    "info.beg = info.last = time.time()\n",
    "\n",
    "#-------------------------------------------------------------------------------\n",
    "\n",
    "def get_sensors():\n",
    "    \"\"\" Get sensor positions \"\"\"    \n",
    "    df = pd.read_csv(PATH / \"sensor_geometry.csv\")      \n",
    "    df['line_id'] = df.sensor_id // 60 + 1                 # string id\n",
    "    df['core']    = (df.line_id > 78).astype(np.float32)   # sensor from DeepCore\n",
    "    df.x = ( df.x * 1e-3 ).astype(np.float32)              # distances in kilometers\n",
    "    df.y = ( df.y * 1e-3 ).astype(np.float32)\n",
    "    df.z = ( df.z * 1e-3 ).astype(np.float32)\n",
    "    return df[['sensor_id', 'line_id', 'core', 'x', 'y', 'z']]\n",
    "\n",
    "#-------------------------------------------------------------------------------\n",
    "\n",
    "def prepare_batch(df, drop_aux = True, doms_agg = False, verbose=True):\n",
    "    \"\"\" \n",
    "    Preparing a loaded batch, shifting and normalizing times \n",
    "        * drop_aux - whether it is necessary to throw out auxiliary pulses (auxiliary==True)\n",
    "        * doms_agg - whether it is necessary to aggregate pulses on sensors\n",
    "        * verbose  - debug output\n",
    "    \"\"\"    \n",
    "    df['event_id'] = df.index.astype(np.int64)\n",
    "    df = df.reset_index(drop=True)  # sensor_id, t, charge, aux, event_id    \n",
    "    df.rename(columns={\"time\": \"t\", \"auxiliary\": \"aux\", 'charge': 'q'}, inplace=True)\n",
    "    df.q = df.q.astype(np.float32)\n",
    "\n",
    "    if drop_aux:\n",
    "        df = df[ ~df.aux ]\n",
    "    \n",
    "    if doms_agg:\n",
    "        df = df.groupby(['event_id', 'sensor_id']).agg(\n",
    "            aux = ( 'aux', \"mean\"),\n",
    "            q   = ( 'q',   \"sum\"),\n",
    "            t   = ( 't',   \"min\"),)\n",
    "        df = df.reset_index()    \n",
    "        \n",
    "    if verbose: info(f\"prepare_batch: loaded  {df.shape}\")\n",
    "        \n",
    "    times = df.groupby('event_id').agg( t_min = ('t', 'min') )\n",
    "    df = df.merge(times, left_on='event_id', right_index=True, how='left')\n",
    "    df.t = (( df.t - df.t_min ) * 0.299792458e-3 ).astype(np.float32)             \n",
    "    \n",
    "    if verbose: info(\"prepare_batch: shift_times\")    \n",
    "\n",
    "    return df[['event_id', 'sensor_id', 'aux', 'q', 't' ]]\n",
    "\n",
    "#-------------------------------------------------------------------------------\n",
    "\n",
    "def agg_features(df):\n",
    "    \"\"\" Calculate some features aggregated for a given event \"\"\"\n",
    "    df = df.groupby('event_id').agg(\n",
    "        lines = ( 'line_id',   'nunique'),\n",
    "        doms  = ( 'sensor_id', 'nunique'),\n",
    "        core  = ( 'core',      'mean'),\n",
    "        pulses= ( 't',         'count'),\n",
    "        t     = ( 't',         'mean'),\n",
    "        q     = ( 'q',         'mean'),\n",
    "    )\n",
    "    return df\n",
    "#-------------------------------------------------------------------------------\n",
    "\n",
    "def angles2vector(df):\n",
    "    \"\"\" Add unit vector components from (azimuth,zenith) to the DataFrame df \"\"\"\n",
    "    df['nx'] = np.sin(df.zenith) * np.cos(df.azimuth)\n",
    "    df['ny'] = np.sin(df.zenith) * np.sin(df.azimuth)\n",
    "    df['nz'] = np.cos(df.zenith) \n",
    "    return df\n",
    "\n",
    "#-------------------------------------------------------------------------------\n",
    "\n",
    "def vector2angles(n, eps=1e-8):\n",
    "    \"\"\"  Get spherical angles of vector n: (B,3) \"\"\"                \n",
    "    n = n / (np.linalg.norm(n, axis=1, keepdims=True) + eps)    \n",
    "                                \n",
    "    azimuth = np.arctan2( n[:,1],  n[:,0])    \n",
    "    azimuth[azimuth < 0] += 2*np.pi\n",
    "                                \n",
    "    zenith = np.arccos( n[:,2].clip(-1,1) )                                \n",
    "    \n",
    "    return azimuth, zenith\n"
   ]
  },
  {
   "cell_type": "code",
   "execution_count": 2,
   "metadata": {},
   "outputs": [],
   "source": [
    "BEST_FIT_VALUE = 5.4265625\n",
    "\n",
    "def calculate_velocity(event, lm=BEST_FIT_VALUE, eps=1e-8):\n",
    "    \"\"\" Weighted Line-fit method \"\"\"\n",
    "    df = event[event[\"aux\"] == 0]\n",
    "    w = np.exp(-lm * df.t)\n",
    "    sum_w = np.sum(w)\n",
    "    sum_xw = np.sum(df.x * w) / sum_w\n",
    "    sum_yw = np.sum(df.y * w) / sum_w\n",
    "    sum_zw = np.sum(df.z * w) / sum_w\n",
    "    sum_tw = np.sum(df.t * w) / sum_w\n",
    "    sum_xtw = np.sum(df.x * df.t * w) / sum_w\n",
    "    sum_ytw = np.sum(df.y * df.t * w) / sum_w\n",
    "    sum_ztw = np.sum(df.z * df.t * w) / sum_w\n",
    "    sum_ttw = np.sum(df.t * df.t * w) / sum_w\n",
    "\n",
    "    Dtw = sum_ttw - sum_tw * sum_tw\n",
    "    ux = (sum_xtw - sum_xw * sum_tw) / (Dtw + eps)\n",
    "    uy = (sum_ytw - sum_yw * sum_tw) / (Dtw + eps)\n",
    "    uz = (sum_ztw - sum_zw * sum_tw) / (Dtw + eps)\n",
    "\n",
    "    u = np.array([-ux, -uy, -uz], dtype=np.float32)\n",
    "    print(u)\n",
    "    u_scalar = np.linalg.norm(u)\n",
    "    un = u / u_scalar\n",
    "\n",
    "    azimuth = np.arctan2(u[1], u[0])\n",
    "    if azimuth < 0:\n",
    "        azimuth += 2 * np.pi\n",
    "    # azimuth = azimuth / np.pi - 1\n",
    "    # zenith = np.arccos(un[2]) / (0.5 * np.pi) - 1\n",
    "    azimuth = azimuth\n",
    "    zenith = np.arccos(un[2])\n",
    "    return np.array([[azimuth, zenith, np.log10(u_scalar)]], dtype=np.float32)"
   ]
  },
  {
   "cell_type": "code",
   "execution_count": 3,
   "metadata": {},
   "outputs": [
    {
     "data": {
      "text/html": [
       "<div>\n",
       "<style scoped>\n",
       "    .dataframe tbody tr th:only-of-type {\n",
       "        vertical-align: middle;\n",
       "    }\n",
       "\n",
       "    .dataframe tbody tr th {\n",
       "        vertical-align: top;\n",
       "    }\n",
       "\n",
       "    .dataframe thead th {\n",
       "        text-align: right;\n",
       "    }\n",
       "</style>\n",
       "<table border=\"1\" class=\"dataframe\">\n",
       "  <thead>\n",
       "    <tr style=\"text-align: right;\">\n",
       "      <th></th>\n",
       "      <th>sensor_id</th>\n",
       "      <th>line_id</th>\n",
       "      <th>core</th>\n",
       "      <th>x</th>\n",
       "      <th>y</th>\n",
       "      <th>z</th>\n",
       "    </tr>\n",
       "  </thead>\n",
       "  <tbody>\n",
       "    <tr>\n",
       "      <th>0</th>\n",
       "      <td>0</td>\n",
       "      <td>1</td>\n",
       "      <td>0.0</td>\n",
       "      <td>-0.25614</td>\n",
       "      <td>-0.52108</td>\n",
       "      <td>0.49603</td>\n",
       "    </tr>\n",
       "    <tr>\n",
       "      <th>1</th>\n",
       "      <td>1</td>\n",
       "      <td>1</td>\n",
       "      <td>0.0</td>\n",
       "      <td>-0.25614</td>\n",
       "      <td>-0.52108</td>\n",
       "      <td>0.47901</td>\n",
       "    </tr>\n",
       "  </tbody>\n",
       "</table>\n",
       "</div>"
      ],
      "text/plain": [
       "   sensor_id  line_id  core        x        y        z\n",
       "0          0        1   0.0 -0.25614 -0.52108  0.49603\n",
       "1          1        1   0.0 -0.25614 -0.52108  0.47901"
      ]
     },
     "metadata": {},
     "output_type": "display_data"
    },
    {
     "name": "stdout",
     "output_type": "stream",
     "text": [
      "  0.2m[+14.9s] 58.968Gb > prepare_batch: loaded  (17247276, 5)\n",
      "  0.4m[ +6.7s] 67.349Gb > prepare_batch: shift_times\n"
     ]
    },
    {
     "data": {
      "text/html": [
       "<div>\n",
       "<style scoped>\n",
       "    .dataframe tbody tr th:only-of-type {\n",
       "        vertical-align: middle;\n",
       "    }\n",
       "\n",
       "    .dataframe tbody tr th {\n",
       "        vertical-align: top;\n",
       "    }\n",
       "\n",
       "    .dataframe thead th {\n",
       "        text-align: right;\n",
       "    }\n",
       "</style>\n",
       "<table border=\"1\" class=\"dataframe\">\n",
       "  <thead>\n",
       "    <tr style=\"text-align: right;\">\n",
       "      <th></th>\n",
       "      <th>event_id</th>\n",
       "      <th>sensor_id</th>\n",
       "      <th>aux</th>\n",
       "      <th>q</th>\n",
       "      <th>t</th>\n",
       "      <th>line_id</th>\n",
       "      <th>core</th>\n",
       "      <th>x</th>\n",
       "      <th>y</th>\n",
       "      <th>z</th>\n",
       "    </tr>\n",
       "  </thead>\n",
       "  <tbody>\n",
       "    <tr>\n",
       "      <th>0</th>\n",
       "      <td>2144984130</td>\n",
       "      <td>3363</td>\n",
       "      <td>False</td>\n",
       "      <td>1.275</td>\n",
       "      <td>0.000000</td>\n",
       "      <td>57</td>\n",
       "      <td>0.0</td>\n",
       "      <td>0.25731</td>\n",
       "      <td>0.21166</td>\n",
       "      <td>0.45336</td>\n",
       "    </tr>\n",
       "    <tr>\n",
       "      <th>1</th>\n",
       "      <td>2144984130</td>\n",
       "      <td>3364</td>\n",
       "      <td>False</td>\n",
       "      <td>1.625</td>\n",
       "      <td>0.005696</td>\n",
       "      <td>57</td>\n",
       "      <td>0.0</td>\n",
       "      <td>0.25731</td>\n",
       "      <td>0.21166</td>\n",
       "      <td>0.43634</td>\n",
       "    </tr>\n",
       "  </tbody>\n",
       "</table>\n",
       "</div>"
      ],
      "text/plain": [
       "     event_id  sensor_id    aux      q         t  line_id  core        x  \\\n",
       "0  2144984130       3363  False  1.275  0.000000       57   0.0  0.25731   \n",
       "1  2144984130       3364  False  1.625  0.005696       57   0.0  0.25731   \n",
       "\n",
       "         y        z  \n",
       "0  0.21166  0.45336  \n",
       "1  0.21166  0.43634  "
      ]
     },
     "metadata": {},
     "output_type": "display_data"
    },
    {
     "data": {
      "text/plain": [
       "(17247276, 10)"
      ]
     },
     "metadata": {},
     "output_type": "display_data"
    }
   ],
   "source": [
    "# 1. load sensors\n",
    "sensors_df = get_sensors()    \n",
    "display(sensors_df.head(2))\n",
    "\n",
    "# 2. load pulses from batches\n",
    "pulses_df = None\n",
    "for filename in files_test:\n",
    "    df = pd.read_parquet(filename)    \n",
    "    df = prepare_batch(df, drop_aux = True, doms_agg = False)\n",
    "    df = df.merge(sensors_df, left_on='sensor_id', right_on='sensor_id', how=\"left\")\n",
    "    pulses_df = df if pulses_df is None else pulses_df.append(df)\n",
    "display(pulses_df.head(2))\n",
    "display(pulses_df.shape)\n",
    "\n",
    "def line_fit(df, lm, eps = 1e-8):\n",
    "    \"\"\" Weighted Line-fit method \"\"\"\n",
    "    df['w']   = np.exp(-lm * df.t)      \n",
    "    \n",
    "    df['xw']  = df.x*df.w;       df['yw']  = df.y*df.w;       df['zw']  = df.z*df.w;  \n",
    "    df['xtw'] = df.x*df.t*df.w;  df['ytw'] = df.y*df.t*df.w;  df['ztw'] = df.z*df.t*df.w; \n",
    "    df['ttw'] = df.t*df.t*df.w;  df['tw']  = df.t*df.w; \n",
    "    agg = df.groupby([\"event_id\"]).agg(\n",
    "        xw  = ('xw', 'sum'),  yw  = ('yw', 'sum'),  zw  = ('zw', 'sum'),  tw = ('tw', 'sum'),\n",
    "        xtw = ('xtw','sum'),  ytw = ('ytw','sum'),  ztw = ('ztw','sum'),  ttw = ('ttw','sum'),\n",
    "        w   = ('w',  'sum')\n",
    "    )      \n",
    "    agg.xw  /= agg.w;  agg.yw  /= agg.w; agg.zw  /= agg.w;  agg.tw  /= agg.w\n",
    "    agg.xtw /= agg.w;  agg.ytw /= agg.w; agg.ztw /= agg.w;  agg.ttw /= agg.w\n",
    "    \n",
    "    agg['Dtw'] = agg.ttw - agg.tw*agg.tw\n",
    "    agg['ux'] = ( agg.xtw - agg.xw*agg.tw ) / ( agg.Dtw + eps);  agg['qx'] = agg.xw - agg.ux * agg.tw\n",
    "    agg['uy'] = ( agg.ytw - agg.yw*agg.tw ) / ( agg.Dtw + eps);  agg['qy'] = agg.yw - agg.uy * agg.tw\n",
    "    agg['uz'] = ( agg.ztw - agg.zw*agg.tw ) / ( agg.Dtw + eps);  agg['qz'] = agg.zw - agg.uz * agg.tw\n",
    "    return agg[['ux', 'uy', 'uz', 'qx', 'qy', 'qz' ]]\n",
    "\n",
    "pred_df = line_fit(pulses_df, lm=5.4265625)\n",
    "u = pred_df[['ux','uy','uz']].to_numpy()\n",
    "\n",
    "df_to_submit = pd.DataFrame()\n",
    "df_to_submit['event_id'] = pulses_df['event_id'].unique()\n",
    "df_to_submit['azimuth'], df_to_submit['zenith'] = vector2angles(-u)\n",
    "df_to_submit = df_to_submit.set_index('event_id')\n",
    "df_to_submit.to_csv('submission.csv')\n"
   ]
  },
  {
   "cell_type": "code",
   "execution_count": 26,
   "metadata": {},
   "outputs": [
    {
     "name": "stdout",
     "output_type": "stream",
     "text": [
      "           azimuth    zenith\n",
      "event_id                    \n",
      "24        1.684347  2.594189\n",
      "41        1.577276  0.817996\n",
      "59        4.712389  3.141247\n",
      "67        3.824628  0.645509\n",
      "72        6.157014  0.350222\n"
     ]
    }
   ],
   "source": [
    "print(df_to_submit[:5])"
   ]
  },
  {
   "cell_type": "code",
   "execution_count": 36,
   "metadata": {},
   "outputs": [
    {
     "name": "stdout",
     "output_type": "stream",
     "text": [
      "[-0.03906769  0.34257433 -0.56566554]\n"
     ]
    },
    {
     "data": {
      "text/plain": [
       "array([[ 1.6843473 ,  2.5941892 , -0.17883652]], dtype=float32)"
      ]
     },
     "execution_count": 36,
     "metadata": {},
     "output_type": "execute_result"
    }
   ],
   "source": [
    "id = 24\n",
    "df = pulses_df[pulses_df[\"event_id\"] == id]\n",
    "calculate_velocity(df)"
   ]
  },
  {
   "cell_type": "code",
   "execution_count": 35,
   "metadata": {},
   "outputs": [
    {
     "name": "stdout",
     "output_type": "stream",
     "text": [
      "(array([4.712389], dtype=float32), array([3.1412473], dtype=float32))\n",
      "[[0.000000e+00 3.402496e-07 1.193793e-01]]\n"
     ]
    },
    {
     "name": "stderr",
     "output_type": "stream",
     "text": [
      "/tmp/ipykernel_127512/1835703901.py:17: SettingWithCopyWarning: \n",
      "A value is trying to be set on a copy of a slice from a DataFrame.\n",
      "Try using .loc[row_indexer,col_indexer] = value instead\n",
      "\n",
      "See the caveats in the documentation: https://pandas.pydata.org/pandas-docs/stable/user_guide/indexing.html#returning-a-view-versus-a-copy\n",
      "  df['w']   = np.exp(-lm * df.t)\n",
      "/tmp/ipykernel_127512/1835703901.py:19: SettingWithCopyWarning: \n",
      "A value is trying to be set on a copy of a slice from a DataFrame.\n",
      "Try using .loc[row_indexer,col_indexer] = value instead\n",
      "\n",
      "See the caveats in the documentation: https://pandas.pydata.org/pandas-docs/stable/user_guide/indexing.html#returning-a-view-versus-a-copy\n",
      "  df['xw']  = df.x*df.w;       df['yw']  = df.y*df.w;       df['zw']  = df.z*df.w;\n",
      "/tmp/ipykernel_127512/1835703901.py:20: SettingWithCopyWarning: \n",
      "A value is trying to be set on a copy of a slice from a DataFrame.\n",
      "Try using .loc[row_indexer,col_indexer] = value instead\n",
      "\n",
      "See the caveats in the documentation: https://pandas.pydata.org/pandas-docs/stable/user_guide/indexing.html#returning-a-view-versus-a-copy\n",
      "  df['xtw'] = df.x*df.t*df.w;  df['ytw'] = df.y*df.t*df.w;  df['ztw'] = df.z*df.t*df.w;\n",
      "/tmp/ipykernel_127512/1835703901.py:21: SettingWithCopyWarning: \n",
      "A value is trying to be set on a copy of a slice from a DataFrame.\n",
      "Try using .loc[row_indexer,col_indexer] = value instead\n",
      "\n",
      "See the caveats in the documentation: https://pandas.pydata.org/pandas-docs/stable/user_guide/indexing.html#returning-a-view-versus-a-copy\n",
      "  df['ttw'] = df.t*df.t*df.w;  df['tw']  = df.t*df.w;\n"
     ]
    }
   ],
   "source": [
    "pred_df = line_fit(df, lm=BEST_FIT_VALUE)\n",
    "u = pred_df[['ux','uy','uz']].to_numpy()\n",
    "print(vector2angles(-u))\n",
    "print(u)\n"
   ]
  },
  {
   "cell_type": "code",
   "execution_count": null,
   "metadata": {},
   "outputs": [],
   "source": []
  }
 ],
 "metadata": {
  "kernelspec": {
   "display_name": "base",
   "language": "python",
   "name": "python3"
  },
  "language_info": {
   "codemirror_mode": {
    "name": "ipython",
    "version": 3
   },
   "file_extension": ".py",
   "mimetype": "text/x-python",
   "name": "python",
   "nbconvert_exporter": "python",
   "pygments_lexer": "ipython3",
   "version": "3.8.12"
  },
  "orig_nbformat": 4,
  "vscode": {
   "interpreter": {
    "hash": "946d2e1d1d3b6f24da6f10631d4b4abff879577bd1216afd06f18aa4485829a1"
   }
  }
 },
 "nbformat": 4,
 "nbformat_minor": 2
}
