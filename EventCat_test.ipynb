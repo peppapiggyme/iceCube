{
 "cells": [
  {
   "cell_type": "code",
   "execution_count": null,
   "metadata": {},
   "outputs": [],
   "source": [
    "from IceCube.Essential import *\n",
    "from IceCube.Model import *\n",
    "from sklearn.tree import DecisionTreeClassifier\n",
    "from sklearn.ensemble import AdaBoostClassifier\n",
    "from sklearn.model_selection import train_test_split\n",
    "from sklearn.metrics import accuracy_score\n",
    "import pickle\n",
    "import pdb\n"
   ]
  },
  {
   "cell_type": "code",
   "execution_count": null,
   "metadata": {},
   "outputs": [],
   "source": [
    "def draw_hist(title, x, density=True, nbins=30):\n",
    "    kappa_lo = x[reco_df.kappa < 1]\n",
    "    kappa_hi = x[reco_df.kappa >= 1]\n",
    "\n",
    "    plt.figure()\n",
    "    plt.hist(kappa_lo, bins=nbins, color='blue',\n",
    "             label='Kappa < 1', histtype='step', density=density)\n",
    "    plt.hist(kappa_hi, bins=nbins, color='orange',\n",
    "             label='Kappa > 1', histtype='step', density=density)\n",
    "    plt.title(title)\n",
    "    plt.legend()\n"
   ]
  },
  {
   "cell_type": "code",
   "execution_count": null,
   "metadata": {},
   "outputs": [],
   "source": [
    "BATCHES_TEST = list(range(81, 86))\n",
    "# BATCHES_TEST = [81]\n",
    "\n",
    "# ground truth\n",
    "true_df = get_target_angles(BATCHES_TEST)\n",
    "true_df = angles2vector(true_df)\n",
    "print(true_df.head(5))\n",
    "n = true_df[[\"nx\", \"ny\", \"nz\"]].to_numpy()\n",
    "\n",
    "# reconstructed directions\n",
    "reco_df = get_reco_angles(BATCHES_TEST)\n",
    "print(reco_df.head(5))\n",
    "n_hat = reco_df[[\"x\", \"y\", \"z\"]].to_numpy()\n",
    "\n",
    "error, az_error, ze_error = angle_errors(n, n_hat)\n",
    "print(\n",
    "    f\"error, az_error, ze_error = {error.mean()}, {az_error.mean()}, {ze_error.mean()}\")\n",
    "\n",
    "idx = reco_df.kappa < 0.5\n"
   ]
  },
  {
   "cell_type": "code",
   "execution_count": null,
   "metadata": {},
   "outputs": [],
   "source": [
    "# fit_error can be considered as the goodness of fit\n",
    "Nbins = 100\n",
    "draw_hist(\"log10(error)\", np.log10(\n",
    "    np.sqrt(reco_df[\"error\"]) + 1e-6), nbins=Nbins)\n",
    "draw_hist(\"hits\", reco_df[\"hits\"], nbins=Nbins)\n",
    "draw_hist(\"zenith\", reco_df[\"zenith\"], nbins=Nbins)\n",
    "draw_hist(\"log10(sumq)\", np.log10(reco_df[\"sumq\"] + 1e-3), nbins=Nbins)\n",
    "draw_hist(\"log10(dt_15)\", np.log10(reco_df[\"dt_15\"] + 1e-3), nbins=Nbins)\n",
    "draw_hist(\"log10(dt_50)\", np.log10(reco_df[\"dt_50\"] + 1e-3), nbins=Nbins)\n",
    "draw_hist(\"log10(dt_85)\", np.log10(reco_df[\"dt_85\"] + 1e-3), nbins=Nbins)\n",
    "draw_hist(\"min dt\", np.min([np.log10(reco_df[\"dt_15\"] + 1e-3), np.log10(\n",
    "    reco_df[\"dt_50\"] + 1e-3), np.log10(reco_df[\"dt_85\"] + 1e-3)], axis=0), nbins=Nbins)\n",
    "draw_hist(\"log10(meanq)\", np.log10(reco_df[\"meanq\"] + 1e-3), nbins=Nbins >> 1)\n",
    "draw_hist(\"bratio\", np.clip(reco_df[\"bratio\"], 0, 0.00001), nbins=Nbins >> 1)\n",
    "draw_hist(\"uniq_x\", reco_df[\"uniq_x\"], nbins=Nbins >> 1)\n",
    "draw_hist(\"uniq_y\", reco_df[\"uniq_y\"], nbins=Nbins >> 1)\n",
    "draw_hist(\"uniq_z\", reco_df[\"uniq_z\"], nbins=Nbins >> 1)\n",
    "draw_hist(\"qx\", reco_df[\"qx\"], nbins=Nbins >> 1)\n",
    "draw_hist(\"qy\", reco_df[\"qy\"], nbins=Nbins >> 1)\n",
    "draw_hist(\"qz\", reco_df[\"qz\"], nbins=Nbins >> 1)\n",
    "draw_hist(\"ez\", reco_df[\"ez\"], nbins=Nbins)\n",
    "draw_hist(\"log10(kappa)\", np.log10(reco_df.kappa + 1e-3), nbins=Nbins)\n"
   ]
  },
  {
   "cell_type": "code",
   "execution_count": null,
   "metadata": {},
   "outputs": [],
   "source": [
    "# reco_df inputs\n",
    "columns = [\"error\", \"hits\", \"sumq\", \"qz\",\n",
    "           \"dt_15\", \"dt_50\", \"dt_85\", \"ez\", \"uniq_x\"]\n",
    "X = reco_df[columns].to_numpy()\n",
    "LOGGER.info(f\"input shape = {X.shape}\")\n"
   ]
  },
  {
   "cell_type": "code",
   "execution_count": null,
   "metadata": {},
   "outputs": [],
   "source": [
    "# inputs\n",
    "# load the model and predict\n",
    "LOGGER.info(\"Loading BDT model...\")\n",
    "clf = pickle.load(\n",
    "    open(os.path.join(MODEL_PATH, 'EventCat_clf.Tree.10.sklearn'), 'rb'))\n",
    "LOGGER.info(\"Predicting...\")\n",
    "y_hat = clf.predict(X)\n",
    "score = clf.decision_function(X)\n",
    "\n",
    "# Evaluate accuracy\n",
    "accuracy = accuracy_score(idx, y_hat)\n",
    "LOGGER.info(f\"Test accuracy: {accuracy * 100:.2f}%\")\n"
   ]
  },
  {
   "cell_type": "code",
   "execution_count": null,
   "metadata": {},
   "outputs": [],
   "source": [
    "for i, c in enumerate(columns):\n",
    "    LOGGER.info(f\"{c}\\t{clf.feature_importances_[i]}\")\n"
   ]
  },
  {
   "cell_type": "code",
   "execution_count": null,
   "metadata": {},
   "outputs": [],
   "source": [
    "error, az_error, ze_error = angle_errors(n, n_hat)\n",
    "LOGGER.info(\n",
    "    f\"error, az_error, ze_error = {error.mean()}, {az_error.mean()}, {ze_error.mean()}\")\n",
    "\n",
    "draw_hist(\"score\", np.clip(score, -0.05, 0.05), density=True, nbins=100)\n",
    "\n",
    "idx_num = np.zeros(idx.values.shape)\n",
    "idx_num[idx.values] = 1\n",
    "y_hat_num = np.zeros(y_hat.shape)\n",
    "y_hat_num[y_hat] = 1\n",
    "\n",
    "draw_hist(\"cat\", idx_num, density=False, nbins=100)\n",
    "draw_hist(\"cat\", y_hat_num, density=False, nbins=100)\n"
   ]
  }
 ],
 "metadata": {
  "kernelspec": {
   "display_name": "Python 3 (ipykernel)",
   "language": "python",
   "name": "python3"
  },
  "language_info": {
   "codemirror_mode": {
    "name": "ipython",
    "version": 3
   },
   "file_extension": ".py",
   "mimetype": "text/x-python",
   "name": "python",
   "nbconvert_exporter": "python",
   "pygments_lexer": "ipython3",
   "version": "3.8.12"
  },
  "vscode": {
   "interpreter": {
    "hash": "2f394aca7ca06fed1e6064aef884364492d7cdda3614a461e02e6407fc40ba69"
   }
  }
 },
 "nbformat": 4,
 "nbformat_minor": 4
}
